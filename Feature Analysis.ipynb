{
 "cells": [
  {
   "cell_type": "code",
   "execution_count": 9,
   "metadata": {},
   "outputs": [],
   "source": [
    "import psycopg2\n",
    "import pandas as pd\n",
    "import pandas.io.sql as pd_sql\n",
    "import matplotlib.pyplot as plt\n",
    "import numpy as np\n",
    "import seaborn as sns\n",
    "import os\n",
    "import yellowbrick as yb\n",
    "\n",
    "from yellowbrick.features import RadViz\n",
    "from yellowbrick.features import FeatureImportances\n",
    "\n",
    "import warnings\n",
    "warnings.simplefilter(action='ignore', category=FutureWarning)"
   ]
  },
  {
   "cell_type": "code",
   "execution_count": 10,
   "metadata": {},
   "outputs": [],
   "source": [
    "def connectDB(DB):\n",
    "    # connect to the PostgreSQL server\n",
    "    return psycopg2.connect(\n",
    "        database=DB,\n",
    "        user=\"postgres\",\n",
    "        password=\"Georgetown16\",\n",
    "        host=\"database-1.c5vispb5ezxg.us-east-1.rds.amazonaws.com\",\n",
    "        port='5432')\n",
    "\n",
    "def disconnectDB():\n",
    "    cur.close()\n",
    "    conn.close()"
   ]
  },
  {
   "cell_type": "code",
   "execution_count": 22,
   "metadata": {},
   "outputs": [
    {
     "data": {
      "text/html": [
       "<div>\n",
       "<style scoped>\n",
       "    .dataframe tbody tr th:only-of-type {\n",
       "        vertical-align: middle;\n",
       "    }\n",
       "\n",
       "    .dataframe tbody tr th {\n",
       "        vertical-align: top;\n",
       "    }\n",
       "\n",
       "    .dataframe thead th {\n",
       "        text-align: right;\n",
       "    }\n",
       "</style>\n",
       "<table border=\"1\" class=\"dataframe\">\n",
       "  <thead>\n",
       "    <tr style=\"text-align: right;\">\n",
       "      <th></th>\n",
       "      <th>final_result</th>\n",
       "      <th>gender</th>\n",
       "      <th>highest_education</th>\n",
       "      <th>allclicks</th>\n",
       "      <th>tma_cma_assmt_score</th>\n",
       "      <th>num_of_prev_attempts</th>\n",
       "      <th>year</th>\n",
       "      <th>term</th>\n",
       "      <th>studied_credits</th>\n",
       "      <th>disability</th>\n",
       "    </tr>\n",
       "  </thead>\n",
       "  <tbody>\n",
       "    <tr>\n",
       "      <th>2</th>\n",
       "      <td>0</td>\n",
       "      <td>0</td>\n",
       "      <td>3</td>\n",
       "      <td>646.0</td>\n",
       "      <td>34.90</td>\n",
       "      <td>0</td>\n",
       "      <td>0</td>\n",
       "      <td>0</td>\n",
       "      <td>90</td>\n",
       "      <td>0</td>\n",
       "    </tr>\n",
       "    <tr>\n",
       "      <th>4</th>\n",
       "      <td>1</td>\n",
       "      <td>0</td>\n",
       "      <td>3</td>\n",
       "      <td>934.0</td>\n",
       "      <td>82.40</td>\n",
       "      <td>0</td>\n",
       "      <td>0</td>\n",
       "      <td>0</td>\n",
       "      <td>240</td>\n",
       "      <td>0</td>\n",
       "    </tr>\n",
       "    <tr>\n",
       "      <th>5</th>\n",
       "      <td>0</td>\n",
       "      <td>1</td>\n",
       "      <td>1</td>\n",
       "      <td>161.0</td>\n",
       "      <td>16.69</td>\n",
       "      <td>2</td>\n",
       "      <td>0</td>\n",
       "      <td>1</td>\n",
       "      <td>60</td>\n",
       "      <td>0</td>\n",
       "    </tr>\n",
       "    <tr>\n",
       "      <th>8</th>\n",
       "      <td>1</td>\n",
       "      <td>0</td>\n",
       "      <td>2</td>\n",
       "      <td>590.0</td>\n",
       "      <td>89.24</td>\n",
       "      <td>0</td>\n",
       "      <td>0</td>\n",
       "      <td>0</td>\n",
       "      <td>60</td>\n",
       "      <td>0</td>\n",
       "    </tr>\n",
       "    <tr>\n",
       "      <th>12</th>\n",
       "      <td>1</td>\n",
       "      <td>0</td>\n",
       "      <td>2</td>\n",
       "      <td>712.0</td>\n",
       "      <td>0.00</td>\n",
       "      <td>0</td>\n",
       "      <td>0</td>\n",
       "      <td>0</td>\n",
       "      <td>30</td>\n",
       "      <td>0</td>\n",
       "    </tr>\n",
       "  </tbody>\n",
       "</table>\n",
       "</div>"
      ],
      "text/plain": [
       "    final_result  gender  highest_education  allclicks  tma_cma_assmt_score  \\\n",
       "2              0       0                  3      646.0                34.90   \n",
       "4              1       0                  3      934.0                82.40   \n",
       "5              0       1                  1      161.0                16.69   \n",
       "8              1       0                  2      590.0                89.24   \n",
       "12             1       0                  2      712.0                 0.00   \n",
       "\n",
       "    num_of_prev_attempts  year  term  studied_credits  disability  \n",
       "2                      0     0     0               90           0  \n",
       "4                      0     0     0              240           0  \n",
       "5                      2     0     1               60           0  \n",
       "8                      0     0     0               60           0  \n",
       "12                     0     0     0               30           0  "
      ]
     },
     "execution_count": 22,
     "metadata": {},
     "output_type": "execute_result"
    }
   ],
   "source": [
    "conn = connectDB(\"Dataset\")\n",
    "\n",
    "# extract everything from 'table_name' into a dataframe\n",
    "df = pd_sql.read_sql(f\"select * from public.\\\"featureSTG\\\" \", con=conn)\n",
    "#code to be able to view all the columns in pandas dataframe\n",
    "pd.set_option('display.max_columns', 50)\n",
    "\n",
    "df_temp = df.loc[(df.year == 0)] #only social science classes 2013\n",
    "\n",
    "df_temp = df_temp[[\"final_result\", \"gender\", \"highest_education\", \"allclicks\",\"tma_cma_assmt_score\", \n",
    "               \"num_of_prev_attempts\", \"year\", \"term\", \"studied_credits\", \"disability\"]]\n",
    "\n",
    "#remove null values\n",
    "df_temp = df_temp.dropna()\n",
    "\n",
    "#check to see the correct table was imported\n",
    "df_temp.head()  "
   ]
  },
  {
   "cell_type": "code",
   "execution_count": 23,
   "metadata": {},
   "outputs": [],
   "source": [
    "X = df_temp[[\"gender\", \"highest_education\", \"allclicks\",\"num_of_prev_attempts\", \"studied_credits\"]].values\n",
    "        \n",
    "y = df_temp[\"final_result\"].values"
   ]
  },
  {
   "cell_type": "code",
   "execution_count": 5,
   "metadata": {},
   "outputs": [],
   "source": [
    "#Rad_Viz\n",
    "# Load the classification dataset\n",
    "#X, y = df_temp\n",
    "\n",
    "# Specify the target classes\n",
    "# #classes = [\"0\", \"1\"]\n",
    "\n",
    "# # Instantiate the visualizer\n",
    "# visualizer = RadViz(classes=classes)\n",
    "\n",
    "# visualizer.fit(X, y)           # Fit the data to the visualizer\n",
    "# visualizer.transform(X)        # Transform the data\n",
    "# visualizer.show()              # Finalize and render the figure"
   ]
  },
  {
   "cell_type": "code",
   "execution_count": 24,
   "metadata": {},
   "outputs": [
    {
     "data": {
      "image/png": "[encoded data removed]",
      "text/plain": [
       "<Figure size 432x288 with 1 Axes>"
      ]
     },
     "metadata": {},
     "output_type": "display_data"
    },
    {
     "data": {
      "text/plain": [
       "<matplotlib.axes._subplots.AxesSubplot at 0x12bf89908>"
      ]
     },
     "execution_count": 24,
     "metadata": {},
     "output_type": "execute_result"
    }
   ],
   "source": [
    "classes = [\"fail\", \"pass\"]\n",
    "features = [\"gender\", \"allclicks\",\"num_of_prev_attempts\", \"studied_credits\",\"highest_education\"]\n",
    "        \n",
    "\n",
    "# Instantiate the visualizer\n",
    "visualizer = RadViz (\n",
    "    classes=classes,\n",
    "    features = features\n",
    ")\n",
    "\n",
    "visualizer.fit(X, y)           # Fit the data to the visualizer\n",
    "visualizer.transform(X)        # Transform the data\n",
    "visualizer.show()              # Draw the data"
   ]
  },
  {
   "cell_type": "code",
   "execution_count": null,
   "metadata": {},
   "outputs": [],
   "source": []
  },
  {
   "cell_type": "code",
   "execution_count": 7,
   "metadata": {},
   "outputs": [
    {
     "data": {
      "text/plain": [
       "array([1, 0, 0, ..., 1, 0, 1])"
      ]
     },
     "execution_count": 7,
     "metadata": {},
     "output_type": "execute_result"
    }
   ],
   "source": [
    "y"
   ]
  },
  {
   "cell_type": "code",
   "execution_count": null,
   "metadata": {
    "scrolled": true
   },
   "outputs": [],
   "source": []
  },
  {
   "cell_type": "code",
   "execution_count": 8,
   "metadata": {},
   "outputs": [
    {
     "data": {
      "image/png": "[encoded data removed]",
      "text/plain": [
       "<Figure size 1080x720 with 1 Axes>"
      ]
     },
     "metadata": {
      "needs_background": "light"
     },
     "output_type": "display_data"
    },
    {
     "data": {
      "text/plain": [
       "<matplotlib.axes._subplots.AxesSubplot at 0x126c45b00>"
      ]
     },
     "execution_count": 8,
     "metadata": {},
     "output_type": "execute_result"
    }
   ],
   "source": [
    "from sklearn.ensemble import RandomForestClassifier\n",
    "from yellowbrick.features import FeatureImportances\n",
    "\n",
    "#feature_names = df_temp[features_names[i] for i in indices]\n",
    "\n",
    "model = RandomForestClassifier(n_estimators=10)\n",
    "df_temp = FeatureImportances(model, size=(1080, 720))\n",
    "\n",
    "df_temp.fit(X, y)\n",
    "# Note: the FeatureImportances visualizer is a model visualizer,\n",
    "# not a feature visualizer, so it doesn't have a transform method!\n",
    "df_temp.show()"
   ]
  },
  {
   "cell_type": "code",
   "execution_count": null,
   "metadata": {},
   "outputs": [],
   "source": []
  }
 ],
 "metadata": {
  "kernelspec": {
   "display_name": "Python 3",
   "language": "python",
   "name": "python3"
  },
  "language_info": {
   "codemirror_mode": {
    "name": "ipython",
    "version": 3
   },
   "file_extension": ".py",
   "mimetype": "text/x-python",
   "name": "python",
   "nbconvert_exporter": "python",
   "pygments_lexer": "ipython3",
   "version": "3.7.3"
  }
 },
 "nbformat": 4,
 "nbformat_minor": 2
}
